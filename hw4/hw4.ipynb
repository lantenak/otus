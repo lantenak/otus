{
 "cells": [
  {
   "cell_type": "code",
   "execution_count": 1,
   "id": "08ab3240-d48e-4bff-b1ba-044e9d517291",
   "metadata": {},
   "outputs": [],
   "source": [
    "import findspark\n",
    "findspark.init('/opt/spark')"
   ]
  },
  {
   "cell_type": "code",
   "execution_count": 2,
   "id": "6a17859f-72cd-4ccc-a604-e8bf925385d7",
   "metadata": {},
   "outputs": [],
   "source": [
    "from pyspark.sql import SparkSession"
   ]
  },
  {
   "cell_type": "code",
   "execution_count": 3,
   "id": "dc5b2be2-67a7-42cd-955a-a51173f65d61",
   "metadata": {},
   "outputs": [
    {
     "name": "stderr",
     "output_type": "stream",
     "text": [
      "Setting default log level to \"WARN\".\n",
      "To adjust logging level use sc.setLogLevel(newLevel). For SparkR, use setLogLevel(newLevel).\n",
      "24/12/17 06:31:49 WARN NativeCodeLoader: Unable to load native-hadoop library for your platform... using builtin-java classes where applicable\n"
     ]
    }
   ],
   "source": [
    "spark = SparkSession.builder \\\n",
    "    .enableHiveSupport() \\\n",
    "    .getOrCreate()"
   ]
  },
  {
   "cell_type": "code",
   "execution_count": 4,
   "id": "b710a5f9-339d-4cd0-a791-9bd8dd2a0aca",
   "metadata": {},
   "outputs": [],
   "source": [
    "df = spark.read.format('jdbc') \\\n",
    "    .option('url', 'jdbc:postgresql://metastore:5432/metastore') \\\n",
    "    .option('dbtable', 'information_schema.tables') \\\n",
    "    .option('user', 'jupyter') \\\n",
    "    .option('password', 'jupyter') \\\n",
    "    .load()"
   ]
  },
  {
   "cell_type": "code",
   "execution_count": 5,
   "id": "e767fc99-127e-423a-acf1-5aa11efc90b8",
   "metadata": {},
   "outputs": [
    {
     "name": "stderr",
     "output_type": "stream",
     "text": [
      "                                                                                \r"
     ]
    },
    {
     "name": "stdout",
     "output_type": "stream",
     "text": [
      "+-------------+------------+------------+----------+----------------------------+--------------------+-------------------------+------------------------+----------------------+------------------+--------+-------------+\n",
      "|table_catalog|table_schema|  table_name|table_type|self_referencing_column_name|reference_generation|user_defined_type_catalog|user_defined_type_schema|user_defined_type_name|is_insertable_into|is_typed|commit_action|\n",
      "+-------------+------------+------------+----------+----------------------------+--------------------+-------------------------+------------------------+----------------------+------------------+--------+-------------+\n",
      "|    metastore|      public|         DBS|BASE TABLE|                        null|                null|                     null|                    null|                  null|               YES|      NO|         null|\n",
      "|    metastore|      public|    DB_PRIVS|BASE TABLE|                        null|                null|                     null|                    null|                  null|               YES|      NO|         null|\n",
      "|    metastore|      public|        IDXS|BASE TABLE|                        null|                null|                     null|                    null|                  null|               YES|      NO|         null|\n",
      "|    metastore|      public|INDEX_PARAMS|BASE TABLE|                        null|                null|                     null|                    null|                  null|               YES|      NO|         null|\n",
      "|    metastore|      public|GLOBAL_PRIVS|BASE TABLE|                        null|                null|                     null|                    null|                  null|               YES|      NO|         null|\n",
      "+-------------+------------+------------+----------+----------------------------+--------------------+-------------------------+------------------------+----------------------+------------------+--------+-------------+\n",
      "only showing top 5 rows\n",
      "\n"
     ]
    }
   ],
   "source": [
    "df.show(5)"
   ]
  },
  {
   "cell_type": "code",
   "execution_count": 6,
   "id": "08ec643c-3369-439e-87e9-f1b7525f4805",
   "metadata": {},
   "outputs": [
    {
     "data": {
      "text/plain": [
       "246"
      ]
     },
     "execution_count": 6,
     "metadata": {},
     "output_type": "execute_result"
    }
   ],
   "source": [
    "df.count()"
   ]
  },
  {
   "cell_type": "code",
   "execution_count": 7,
   "id": "82bf4a2a-a553-44ef-a744-e06fa0e4faac",
   "metadata": {},
   "outputs": [
    {
     "data": {
      "text/plain": [
       "StructType([StructField('table_catalog', StringType(), True), StructField('table_schema', StringType(), True), StructField('table_name', StringType(), True), StructField('table_type', StringType(), True), StructField('self_referencing_column_name', StringType(), True), StructField('reference_generation', StringType(), True), StructField('user_defined_type_catalog', StringType(), True), StructField('user_defined_type_schema', StringType(), True), StructField('user_defined_type_name', StringType(), True), StructField('is_insertable_into', StringType(), True), StructField('is_typed', StringType(), True), StructField('commit_action', StringType(), True)])"
      ]
     },
     "execution_count": 7,
     "metadata": {},
     "output_type": "execute_result"
    }
   ],
   "source": [
    "df.schema"
   ]
  },
  {
   "cell_type": "code",
   "execution_count": 8,
   "id": "8e6fbfaa-b947-4ac0-bfd6-37a4cf5b2440",
   "metadata": {},
   "outputs": [
    {
     "name": "stdout",
     "output_type": "stream",
     "text": [
      "SLF4J: Class path contains multiple SLF4J bindings.\n",
      "SLF4J: Found binding in [jar:file:/opt/hive/lib/log4j-slf4j-impl-2.17.1.jar!/org/slf4j/impl/StaticLoggerBinder.class]\n",
      "SLF4J: Found binding in [jar:file:/opt/hadoop/share/hadoop/common/lib/slf4j-reload4j-1.7.36.jar!/org/slf4j/impl/StaticLoggerBinder.class]\n",
      "SLF4J: See http://www.slf4j.org/codes.html#multiple_bindings for an explanation.\n",
      "SLF4J: Actual binding is of type [org.apache.logging.slf4j.Log4jLoggerFactory]\n",
      "Hive Session ID = f074c6c5-cadd-405b-93a0-c30f088eb449\n",
      "\n",
      "Logging initialized using configuration in jar:file:/opt/hive/lib/hive-common-3.1.3.jar!/hive-log4j2.properties Async: true\n",
      "Hive Session ID = 78901d3f-c3e8-4f55-84c0-d623d602e598\n",
      "OK\n",
      "Time taken: 0.745 seconds\n"
     ]
    }
   ],
   "source": [
    "!hive -e 'DROP TABLE IF EXISTS information_schema_tables'"
   ]
  },
  {
   "cell_type": "code",
   "execution_count": 9,
   "id": "1ffabaa1-e3f2-4fbc-8b08-4318e1616b3e",
   "metadata": {},
   "outputs": [
    {
     "name": "stdout",
     "output_type": "stream",
     "text": [
      "SLF4J: Class path contains multiple SLF4J bindings.\n",
      "SLF4J: Found binding in [jar:file:/opt/hive/lib/log4j-slf4j-impl-2.17.1.jar!/org/slf4j/impl/StaticLoggerBinder.class]\n",
      "SLF4J: Found binding in [jar:file:/opt/hadoop/share/hadoop/common/lib/slf4j-reload4j-1.7.36.jar!/org/slf4j/impl/StaticLoggerBinder.class]\n",
      "SLF4J: See http://www.slf4j.org/codes.html#multiple_bindings for an explanation.\n",
      "SLF4J: Actual binding is of type [org.apache.logging.slf4j.Log4jLoggerFactory]\n",
      "Hive Session ID = 83dc793b-8686-497a-a4ab-433eeb05aedb\n",
      "\n",
      "Logging initialized using configuration in jar:file:/opt/hive/lib/hive-common-3.1.3.jar!/hive-log4j2.properties Async: true\n",
      "Hive Session ID = 091f5eee-2678-4559-b1ff-4117618fd29e\n",
      "OK\n",
      "Time taken: 0.802 seconds\n"
     ]
    }
   ],
   "source": [
    "!hive -e 'CREATE TABLE information_schema_tables \\\n",
    "    ( \\\n",
    "    table_catalog STRING, \\\n",
    "    table_schema STRING, \\\n",
    "    table_name STRING, \\\n",
    "    table_type STRING, \\\n",
    "    self_referencing_column_name STRING, \\\n",
    "    reference_generation STRING, \\\n",
    "    user_defined_type_catalog STRING, \\\n",
    "    user_defined_type_schema STRING, \\\n",
    "    user_defined_type_name STRING, \\\n",
    "    is_insertable_into STRING, \\\n",
    "    is_typed STRING, \\\n",
    "    commit_action STRING \\\n",
    "    ) \\\n",
    "    STORED AS ORC'"
   ]
  },
  {
   "cell_type": "code",
   "execution_count": 10,
   "id": "bb27f825-955e-49b1-afab-1aae0ad33e71",
   "metadata": {},
   "outputs": [],
   "source": [
    "df.createOrReplaceTempView('df')"
   ]
  },
  {
   "cell_type": "code",
   "execution_count": 11,
   "id": "e594a366-06a4-4111-b76e-88de5387c6a9",
   "metadata": {},
   "outputs": [
    {
     "name": "stderr",
     "output_type": "stream",
     "text": [
      "                                                                                \r"
     ]
    },
    {
     "data": {
      "text/plain": [
       "DataFrame[]"
      ]
     },
     "execution_count": 11,
     "metadata": {},
     "output_type": "execute_result"
    }
   ],
   "source": [
    "spark.sql('INSERT OVERWRITE TABLE information_schema_tables SELECT * FROM df')"
   ]
  },
  {
   "cell_type": "code",
   "execution_count": 12,
   "id": "c5dbaf02-8ce2-4b96-8c08-8c268ef22ff1",
   "metadata": {},
   "outputs": [
    {
     "name": "stdout",
     "output_type": "stream",
     "text": [
      "+-------------+------------+------------+----------+----------------------------+--------------------+-------------------------+------------------------+----------------------+------------------+--------+-------------+\n",
      "|table_catalog|table_schema|  table_name|table_type|self_referencing_column_name|reference_generation|user_defined_type_catalog|user_defined_type_schema|user_defined_type_name|is_insertable_into|is_typed|commit_action|\n",
      "+-------------+------------+------------+----------+----------------------------+--------------------+-------------------------+------------------------+----------------------+------------------+--------+-------------+\n",
      "|    metastore|      public|         DBS|BASE TABLE|                        null|                null|                     null|                    null|                  null|               YES|      NO|         null|\n",
      "|    metastore|      public|    DB_PRIVS|BASE TABLE|                        null|                null|                     null|                    null|                  null|               YES|      NO|         null|\n",
      "|    metastore|      public|        IDXS|BASE TABLE|                        null|                null|                     null|                    null|                  null|               YES|      NO|         null|\n",
      "|    metastore|      public|INDEX_PARAMS|BASE TABLE|                        null|                null|                     null|                    null|                  null|               YES|      NO|         null|\n",
      "|    metastore|      public|GLOBAL_PRIVS|BASE TABLE|                        null|                null|                     null|                    null|                  null|               YES|      NO|         null|\n",
      "+-------------+------------+------------+----------+----------------------------+--------------------+-------------------------+------------------------+----------------------+------------------+--------+-------------+\n",
      "only showing top 5 rows\n",
      "\n"
     ]
    },
    {
     "name": "stderr",
     "output_type": "stream",
     "text": [
      "                                                                                \r"
     ]
    }
   ],
   "source": [
    "spark.table('information_schema_tables').show(5)"
   ]
  },
  {
   "cell_type": "code",
   "execution_count": 13,
   "id": "35ae4789-e3eb-4efa-9937-351361974175",
   "metadata": {},
   "outputs": [
    {
     "data": {
      "text/plain": [
       "246"
      ]
     },
     "execution_count": 13,
     "metadata": {},
     "output_type": "execute_result"
    }
   ],
   "source": [
    "spark.table('information_schema_tables').count()"
   ]
  }
 ],
 "metadata": {
  "kernelspec": {
   "display_name": "Python 3 (ipykernel)",
   "language": "python",
   "name": "python3"
  },
  "language_info": {
   "codemirror_mode": {
    "name": "ipython",
    "version": 3
   },
   "file_extension": ".py",
   "mimetype": "text/x-python",
   "name": "python",
   "nbconvert_exporter": "python",
   "pygments_lexer": "ipython3",
   "version": "3.11.6"
  }
 },
 "nbformat": 4,
 "nbformat_minor": 5
}
