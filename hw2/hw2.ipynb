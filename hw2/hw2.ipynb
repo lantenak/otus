{
 "cells": [
  {
   "cell_type": "code",
   "execution_count": 1,
   "id": "84444727-5efb-4cee-a0bd-0bfd78946f14",
   "metadata": {},
   "outputs": [
    {
     "name": "stdout",
     "output_type": "stream",
     "text": [
      "2024-12-04 15:57:39,484 WARN util.NativeCodeLoader: Unable to load native-hadoop library for your platform... using builtin-java classes where applicable\n"
     ]
    }
   ],
   "source": [
    "!hdfs dfs -mkdir /tmp/bank_transactions/"
   ]
  },
  {
   "cell_type": "code",
   "execution_count": 2,
   "id": "27a3112b-d86e-4ae5-b6cd-6e8f9d3075ce",
   "metadata": {},
   "outputs": [
    {
     "name": "stdout",
     "output_type": "stream",
     "text": [
      "2024-12-04 15:57:41,622 WARN util.NativeCodeLoader: Unable to load native-hadoop library for your platform... using builtin-java classes where applicable\n"
     ]
    }
   ],
   "source": [
    "!hdfs dfs -put bank_transactions_data_2.csv /tmp/bank_transactions/"
   ]
  },
  {
   "cell_type": "code",
   "execution_count": 3,
   "id": "2a84ce4e-701d-46b1-852a-b74318348ef1",
   "metadata": {},
   "outputs": [
    {
     "name": "stdout",
     "output_type": "stream",
     "text": [
      "SLF4J: Class path contains multiple SLF4J bindings.\n",
      "SLF4J: Found binding in [jar:file:/opt/hive/lib/log4j-slf4j-impl-2.17.1.jar!/org/slf4j/impl/StaticLoggerBinder.class]\n",
      "SLF4J: Found binding in [jar:file:/opt/hadoop/share/hadoop/common/lib/slf4j-reload4j-1.7.36.jar!/org/slf4j/impl/StaticLoggerBinder.class]\n",
      "SLF4J: See http://www.slf4j.org/codes.html#multiple_bindings for an explanation.\n",
      "SLF4J: Actual binding is of type [org.apache.logging.slf4j.Log4jLoggerFactory]\n",
      "Hive Session ID = ff161206-e9ee-4fc0-ad5b-b5748739df39\n",
      "\n",
      "Logging initialized using configuration in jar:file:/opt/hive/lib/hive-common-3.1.3.jar!/hive-log4j2.properties Async: true\n",
      "Hive Session ID = a102bad9-df74-40b6-bdde-d3c073440516\n",
      "OK\n",
      "Time taken: 0.712 seconds\n"
     ]
    }
   ],
   "source": [
    "!hive -e \"CREATE EXTERNAL TABLE ext_bank_transactions \\\n",
    "(transaction_id STRING, account_id STRING, transaction_amount FLOAT, transaction_date TIMESTAMP, transaction_type STRING, location STRING, \\\n",
    "device_id STRING, ip_address STRING, merchant_id STRING, channel STRING, customer_age INT, customer_occupation STRING, transaction_duration INT, \\\n",
    "login_attempts INT, account_balance DOUBLE, previous_transaction_date TIMESTAMP) \\\n",
    "ROW FORMAT DELIMITED FIELDS TERMINATED BY ',' \\\n",
    "STORED AS TEXTFILE \\\n",
    "LOCATION '/tmp/bank_transactions/' \\\n",
    "TBLPROPERTIES ('skip.header.line.count'='1');\""
   ]
  },
  {
   "cell_type": "code",
   "execution_count": 4,
   "id": "3ea3674e-65c0-4409-8044-e479cba05c8b",
   "metadata": {},
   "outputs": [
    {
     "name": "stdout",
     "output_type": "stream",
     "text": [
      "SLF4J: Class path contains multiple SLF4J bindings.\n",
      "SLF4J: Found binding in [jar:file:/opt/hive/lib/log4j-slf4j-impl-2.17.1.jar!/org/slf4j/impl/StaticLoggerBinder.class]\n",
      "SLF4J: Found binding in [jar:file:/opt/hadoop/share/hadoop/common/lib/slf4j-reload4j-1.7.36.jar!/org/slf4j/impl/StaticLoggerBinder.class]\n",
      "SLF4J: See http://www.slf4j.org/codes.html#multiple_bindings for an explanation.\n",
      "SLF4J: Actual binding is of type [org.apache.logging.slf4j.Log4jLoggerFactory]\n",
      "Hive Session ID = 0077e082-5a77-4d8d-971a-943bf63cb13a\n",
      "\n",
      "Logging initialized using configuration in jar:file:/opt/hive/lib/hive-common-3.1.3.jar!/hive-log4j2.properties Async: true\n",
      "Hive Session ID = 32b0b92e-c7b5-45ee-9910-453efc690440\n",
      "OK\n",
      "Time taken: 0.707 seconds\n"
     ]
    }
   ],
   "source": [
    "!hive -e \"CREATE TABLE bank_transactions \\\n",
    "(transaction_id STRING, account_id STRING, transaction_amount FLOAT, transaction_date TIMESTAMP, transaction_type STRING, location STRING, \\\n",
    "device_id STRING, ip_address STRING, merchant_id STRING, channel STRING, customer_age INT, customer_occupation STRING, transaction_duration INT, \\\n",
    "login_attempts INT, account_balance DOUBLE, previous_transaction_date TIMESTAMP) \\\n",
    "PARTITIONED BY (year INT);\""
   ]
  },
  {
   "cell_type": "code",
   "execution_count": 5,
   "id": "2ec6300b-9d7e-464c-a21e-8f1bb10f3e22",
   "metadata": {},
   "outputs": [
    {
     "name": "stdout",
     "output_type": "stream",
     "text": [
      "SLF4J: Class path contains multiple SLF4J bindings.\n",
      "SLF4J: Found binding in [jar:file:/opt/hive/lib/log4j-slf4j-impl-2.17.1.jar!/org/slf4j/impl/StaticLoggerBinder.class]\n",
      "SLF4J: Found binding in [jar:file:/opt/hadoop/share/hadoop/common/lib/slf4j-reload4j-1.7.36.jar!/org/slf4j/impl/StaticLoggerBinder.class]\n",
      "SLF4J: See http://www.slf4j.org/codes.html#multiple_bindings for an explanation.\n",
      "SLF4J: Actual binding is of type [org.apache.logging.slf4j.Log4jLoggerFactory]\n",
      "Hive Session ID = 9f048af0-6eeb-4a8b-95ef-b28395a861bc\n",
      "\n",
      "Logging initialized using configuration in jar:file:/opt/hive/lib/hive-common-3.1.3.jar!/hive-log4j2.properties Async: true\n",
      "Hive Session ID = fcdb5c48-a71b-48df-83ed-b47eacab52d8\n",
      "Query ID = jupyter_20241204155801_0786a00c-cbaf-409c-8568-940aa4ac4e0b\n",
      "Total jobs = 3\n",
      "Launching Job 1 out of 3\n",
      "Number of reduce tasks not specified. Estimated from input data size: 1\n",
      "In order to change the average load for a reducer (in bytes):\n",
      "  set hive.exec.reducers.bytes.per.reducer=<number>\n",
      "In order to limit the maximum number of reducers:\n",
      "  set hive.exec.reducers.max=<number>\n",
      "In order to set a constant number of reducers:\n",
      "  set mapreduce.job.reduces=<number>\n",
      "Starting Job = job_1733327779309_0001, Tracking URL = http://master:8088/proxy/application_1733327779309_0001/\n",
      "Kill Command = /opt/hadoop/bin/mapred job  -kill job_1733327779309_0001\n",
      "Hadoop job information for Stage-1: number of mappers: 1; number of reducers: 1\n",
      "2024-12-04 15:58:08,181 Stage-1 map = 0%,  reduce = 0%\n",
      "2024-12-04 15:58:14,342 Stage-1 map = 100%,  reduce = 0%, Cumulative CPU 2.6 sec\n",
      "2024-12-04 15:58:18,424 Stage-1 map = 100%,  reduce = 100%, Cumulative CPU 3.68 sec\n",
      "MapReduce Total cumulative CPU time: 3 seconds 680 msec\n",
      "Ended Job = job_1733327779309_0001\n",
      "Stage-4 is selected by condition resolver.\n",
      "Stage-3 is filtered out by condition resolver.\n",
      "Stage-5 is filtered out by condition resolver.\n",
      "Moving data to directory hdfs://master/user/hive/warehouse/bank_transactions/year=2023/.hive-staging_hive_2024-12-04_15-58-01_165_2126243209174908382-1/-ext-10000\n",
      "Loading data to table default.bank_transactions partition (year=2023)\n",
      "MapReduce Jobs Launched: \n",
      "Stage-Stage-1: Map: 1  Reduce: 1   Cumulative CPU: 3.68 sec   HDFS Read: 381898 HDFS Write: 353486 SUCCESS\n",
      "Total MapReduce CPU Time Spent: 3 seconds 680 msec\n",
      "OK\n",
      "Time taken: 18.985 seconds\n"
     ]
    }
   ],
   "source": [
    "!hive -e \"INSERT INTO bank_transactions PARTITION(year=2023) \\\n",
    "SELECT * FROM ext_bank_transactions WHERE YEAR(transaction_date) = 2023\""
   ]
  },
  {
   "cell_type": "code",
   "execution_count": 6,
   "id": "f5102bd0-3b62-4e2a-b1b5-4923e5162470",
   "metadata": {},
   "outputs": [
    {
     "name": "stdout",
     "output_type": "stream",
     "text": [
      "SLF4J: Class path contains multiple SLF4J bindings.\n",
      "SLF4J: Found binding in [jar:file:/opt/hive/lib/log4j-slf4j-impl-2.17.1.jar!/org/slf4j/impl/StaticLoggerBinder.class]\n",
      "SLF4J: Found binding in [jar:file:/opt/hadoop/share/hadoop/common/lib/slf4j-reload4j-1.7.36.jar!/org/slf4j/impl/StaticLoggerBinder.class]\n",
      "SLF4J: See http://www.slf4j.org/codes.html#multiple_bindings for an explanation.\n",
      "SLF4J: Actual binding is of type [org.apache.logging.slf4j.Log4jLoggerFactory]\n",
      "Hive Session ID = ecabaf2a-9e11-466e-9a57-d7e00641cce9\n",
      "\n",
      "Logging initialized using configuration in jar:file:/opt/hive/lib/hive-common-3.1.3.jar!/hive-log4j2.properties Async: true\n",
      "Hive Session ID = ffda9ed3-5fa7-4268-8d23-463c29878721\n",
      "OK\n",
      "TX000001\tAC00128\t14.09\t2023-04-11 16:29:14\tDebit\tSan Diego\tD000380\t162.198.218.92\tM015\tATM\t70\tDoctor\t81\t1\t5112.21\t2024-11-04 08:08:08\t2023\n",
      "TX000002\tAC00455\t376.24\t2023-06-27 16:44:19\tDebit\tHouston\tD000051\t13.149.61.4\tM052\tATM\t68\tDoctor\t141\t1\t13758.91\t2024-11-04 08:09:35\t2023\n",
      "TX000003\tAC00019\t126.29\t2023-07-10 18:16:08\tDebit\tMesa\tD000235\t215.97.143.157\tM009\tOnline\t19\tStudent\t56\t1\t1122.35\t2024-11-04 08:07:04\t2023\n",
      "TX000004\tAC00070\t184.5\t2023-05-05 16:32:11\tDebit\tRaleigh\tD000187\t200.13.225.150\tM002\tOnline\t26\tStudent\t25\t1\t8569.06\t2024-11-04 08:09:06\t2023\n",
      "TX000005\tAC00411\t13.45\t2023-10-16 17:51:24\tCredit\tAtlanta\tD000308\t65.164.3.100\tM091\tOnline\t26\tStudent\t198\t1\t7429.4\t2024-11-04 08:06:39\t2023\n",
      "TX000006\tAC00393\t92.15\t2023-04-03 17:15:01\tDebit\tOklahoma City\tD000579\t117.67.192.211\tM054\tATM\t18\tStudent\t172\t1\t781.68\t2024-11-04 08:06:36\t2023\n",
      "TX000007\tAC00199\t7.08\t2023-02-15 16:36:48\tCredit\tSeattle\tD000241\t140.212.253.222\tM019\tATM\t37\tDoctor\t139\t1\t13316.71\t2024-11-04 08:10:09\t2023\n",
      "TX000008\tAC00069\t171.42\t2023-05-08 17:47:59\tCredit\tIndianapolis\tD000500\t92.214.76.157\tM020\tBranch\t67\tRetired\t291\t1\t2796.24\t2024-11-04 08:10:55\t2023\n",
      "TX000009\tAC00135\t106.23\t2023-03-21 16:59:46\tCredit\tDetroit\tD000690\t24.148.92.177\tM035\tBranch\t51\tEngineer\t86\t1\t9095.14\t2024-11-04 08:11:14\t2023\n",
      "TX000010\tAC00385\t815.96\t2023-03-31 16:06:57\tDebit\tNashville\tD000199\t32.169.88.41\tM007\tATM\t55\tDoctor\t120\t1\t1021.88\t2024-11-04 08:06:32\t2023\n",
      "TX000011\tAC00150\t17.78\t2023-03-14 16:46:10\tCredit\tAlbuquerque\tD000205\t213.15.9.253\tM073\tOnline\t52\tEngineer\t59\t1\t7599.52\t2024-11-04 08:06:45\t2023\n",
      "TX000012\tAC00459\t190.02\t2023-02-06 17:30:00\tDebit\tMemphis\tD000589\t116.175.11.222\tM030\tOnline\t21\tStudent\t173\t1\t1528.81\t2024-11-04 08:07:12\t2023\n",
      "TX000013\tAC00392\t494.52\t2023-06-07 17:21:28\tCredit\tMesa\tD000032\t210.98.198.143\tM057\tBranch\t24\tStudent\t111\t1\t1620.02\t2024-11-04 08:08:38\t2023\n",
      "TX000014\tAC00264\t781.76\t2023-11-20 16:39:15\tDebit\tMemphis\tD000054\t193.83.0.183\tM025\tATM\t26\tStudent\t123\t1\t189.69\t2024-11-04 08:07:06\t2023\n",
      "TX000015\tAC00085\t166.99\t2023-02-13 16:53:57\tDebit\tLouisville\tD000309\t188.124.181.12\tM017\tOnline\t18\tStudent\t134\t1\t299.93\t2024-11-04 08:10:09\t2023\n",
      "TX000016\tAC00270\t465.45\t2023-12-12 16:23:31\tDebit\tDenver\tD000466\t221.169.49.152\tM025\tATM\t36\tEngineer\t129\t1\t3465.54\t2024-11-04 08:12:19\t2023\n",
      "TX000017\tAC00317\t555.8\t2023-10-30 16:52:49\tCredit\tAustin\tD000671\t53.218.177.171\tM048\tBranch\t19\tStudent\t158\t1\t1131.26\t2024-11-04 08:07:35\t2023\n",
      "TX000018\tAC00359\t492.93\t2023-12-14 18:32:14\tDebit\tColumbus\tD000432\t114.223.129.47\tM059\tOnline\t39\tEngineer\t234\t1\t5109.97\t2024-11-04 08:11:51\t2023\n",
      "TX000019\tAC00242\t18.68\t2023-02-21 16:56:50\tCredit\tAlbuquerque\tD000530\t93.218.115.132\tM054\tBranch\t59\tRetired\t106\t1\t7948.37\t2024-11-04 08:12:01\t2023\n",
      "TX000020\tAC00285\t71.48\t2023-06-08 18:18:50\tCredit\tColumbus\tD000039\t120.170.93.69\tM039\tOnline\t18\tStudent\t169\t1\t6568.59\t2024-11-04 08:09:20\t2023\n",
      "TX000021\tAC00002\t59.32\t2023-02-28 16:36:58\tDebit\tLos Angeles\tD000152\t116.44.12.250\tM040\tBranch\t71\tRetired\t38\t1\t5750.89\t2024-11-04 08:09:24\t2023\n",
      "TX000022\tAC00014\t85.77\t2023-08-11 18:31:31\tDebit\tLas Vegas\tD000268\t59.132.247.252\tM065\tBranch\t38\tDoctor\t93\t1\t9146.19\t2024-11-04 08:08:13\t2023\n",
      "TX000023\tAC00095\t52.2\t2023-06-06 18:54:15\tDebit\tAtlanta\tD000142\t133.63.96.21\tM022\tOnline\t39\tEngineer\t120\t1\t8974.93\t2024-11-04 08:07:01\t2023\n",
      "TX000024\tAC00453\t345.84\t2023-05-02 18:25:46\tDebit\tFort Worth\tD000162\t191.82.103.198\tM083\tOnline\t22\tStudent\t142\t3\t1402.5\t2024-11-04 08:07:04\t2023\n",
      "TX000025\tAC00241\t145.54\t2023-03-02 16:43:56\tDebit\tRaleigh\tD000036\t119.186.154.104\tM028\tOnline\t21\tStudent\t96\t1\t1930.96\t2024-11-04 08:07:09\t2023\n",
      "TX000026\tAC00041\t7.49\t2023-10-20 17:53:13\tCredit\tHouston\tD000671\t81.248.235.147\tM043\tOnline\t65\tRetired\t276\t1\t3634.67\t2024-11-04 08:09:44\t2023\n",
      "TX000027\tAC00441\t246.93\t2023-04-17 16:37:01\tDebit\tMiami\tD000046\t55.154.161.250\tM029\tATM\t23\tStudent\t158\t5\t673.35\t2024-11-04 08:11:38\t2023\n",
      "TX000028\tAC00057\t40.32\t2023-03-29 16:42:38\tDebit\tMilwaukee\tD000310\t21.28.32.1\tM008\tBranch\t37\tEngineer\t95\t1\t2686.52\t2024-11-04 08:11:59\t2023\n",
      "TX000029\tAC00390\t127.45\t2023-01-24 16:18:32\tDebit\tLas Vegas\tD000232\t152.234.65.155\tM092\tOnline\t44\tDoctor\t197\t1\t1772.06\t2024-11-04 08:11:22\t2023\n",
      "TX000030\tAC00313\t56.17\t2023-09-20 16:55:42\tDebit\tDetroit\tD000297\t33.28.138.82\tM043\tBranch\t27\tStudent\t283\t1\t1351.69\t2024-11-04 08:08:30\t2023\n",
      "TX000031\tAC00367\t28.31\t2023-07-17 17:49:22\tCredit\tMiami\tD000587\t35.67.21.23\tM091\tOnline\t59\tDoctor\t20\t1\t8334.47\t2024-11-04 08:09:17\t2023\n",
      "TX000032\tAC00291\t59.12\t2023-02-06 16:24:24\tDebit\tBaltimore\tD000282\t187.199.178.27\tM053\tATM\t29\tDoctor\t257\t1\t9823.64\t2024-11-04 08:06:58\t2023\n",
      "TX000033\tAC00060\t396.45\t2023-09-25 16:26:00\tDebit\tNew York\tD000621\t133.67.250.163\tM007\tATM\t49\tEngineer\t168\t3\t9690.15\t2024-11-04 08:11:13\t2023\n",
      "TX000034\tAC00359\t877.81\t2023-03-13 17:23:24\tDebit\tLos Angeles\tD000111\t134.140.85.231\tM094\tOnline\t22\tStudent\t150\t1\t399.0\t2024-11-04 08:07:50\t2023\n",
      "TX000035\tAC00365\t255.26\t2023-10-27 16:42:49\tCredit\tSan Francisco\tD000357\t92.214.76.157\tM002\tBranch\t45\tDoctor\t50\t1\t14815.87\t2024-11-04 08:10:51\t2023\n",
      "TX000036\tAC00267\t124.76\t2023-10-16 16:32:56\tDebit\tSeattle\tD000042\t59.145.242.13\tM002\tBranch\t49\tEngineer\t45\t1\t5764.72\t2024-11-04 08:06:23\t2023\n",
      "TX000037\tAC00404\t78.13\t2023-11-21 16:58:44\tDebit\tMilwaukee\tD000250\t33.28.138.82\tM028\tBranch\t26\tStudent\t145\t1\t900.61\t2024-11-04 08:12:18\t2023\n",
      "TX000038\tAC00202\t649.28\t2023-03-02 17:53:32\tDebit\tSan Jose\tD000448\t73.108.76.238\tM074\tATM\t75\tRetired\t137\t1\t4875.86\t2024-11-04 08:11:15\t2023\n",
      "TX000039\tAC00478\t795.31\t2023-10-12 17:07:40\tDebit\tMesa\tD000077\t49.29.37.185\tM048\tATM\t66\tDoctor\t90\t2\t7914.88\t2024-11-04 08:11:17\t2023\n",
      "TX000040\tAC00405\t335.63\t2023-01-24 17:17:20\tDebit\tOklahoma City\tD000038\t49.20.211.229\tM040\tOnline\t55\tRetired\t216\t1\t1019.39\t2024-11-04 08:07:32\t2023\n",
      "TX000041\tAC00421\t328.47\t2023-07-31 18:39:50\tDebit\tSan Antonio\tD000557\t6.234.101.35\tM014\tATM\t63\tRetired\t119\t1\t4323.66\t2024-11-04 08:07:31\t2023\n",
      "TX000042\tAC00480\t34.02\t2023-01-09 16:13:21\tDebit\tPhiladelphia\tD000627\t109.105.179.186\tM046\tOnline\t38\tDoctor\t19\t1\t14214.48\t2024-11-04 08:11:45\t2023\n",
      "TX000043\tAC00120\t241.42\t2023-04-20 18:57:43\tCredit\tCharlotte\tD000198\t60.89.202.192\tM044\tOnline\t57\tDoctor\t116\t1\t13357.02\t2024-11-04 08:09:03\t2023\n",
      "TX000044\tAC00117\t55.32\t2023-04-12 16:03:37\tDebit\tTucson\tD000197\t173.135.78.201\tM009\tATM\t19\tStudent\t117\t1\t241.79\t2024-11-04 08:08:03\t2023\n",
      "TX000045\tAC00011\t304.31\t2023-07-26 16:52:28\tDebit\tLouisville\tD000685\t77.208.193.198\tM005\tBranch\t27\tStudent\t33\t1\t868.61\t2024-11-04 08:09:53\t2023\n",
      "TX000046\tAC00401\t435.27\t2023-10-04 17:49:29\tDebit\tChicago\tD000297\t197.162.55.147\tM051\tBranch\t74\tRetired\t90\t1\t4673.28\t2024-11-04 08:11:12\t2023\n",
      "TX000047\tAC00282\t164.49\t2023-12-13 16:01:38\tDebit\tBaltimore\tD000103\t113.115.81.178\tM070\tBranch\t26\tStudent\t75\t1\t1509.27\t2024-11-04 08:10:33\t2023\n",
      "TX000048\tAC00439\t510.24\t2023-10-09 16:29:40\tDebit\tOklahoma City\tD000397\t186.135.2.148\tM090\tOnline\t19\tStudent\t105\t1\t781.7\t2024-11-04 08:11:35\t2023\n",
      "TX000049\tAC00296\t626.9\t2023-11-27 16:45:57\tDebit\tDenver\tD000284\t93.146.251.20\tM023\tOnline\t26\tStudent\t138\t1\t265.51\t2024-11-04 08:07:24\t2023\n",
      "TX000050\tAC00471\t22.01\t2023-03-27 16:45:18\tCredit\tSacramento\tD000304\t124.6.134.78\tM055\tOnline\t41\tEngineer\t175\t1\t1335.09\t2024-11-04 08:06:31\t2023\n",
      "TX000051\tAC00159\t425.34\t2023-02-13 16:59:39\tCredit\tKansas City\tD000661\t139.23.212.102\tM040\tOnline\t69\tRetired\t121\t1\t3907.54\t2024-11-04 08:07:07\t2023\n",
      "TX000052\tAC00482\t424.56\t2023-02-21 17:45:55\tDebit\tOmaha\tD000598\t179.43.245.131\tM015\tOnline\t51\tEngineer\t264\t1\t5183.85\t2024-11-04 08:09:02\t2023\n",
      "TX000053\tAC00115\t85.43\t2023-06-07 16:45:34\tDebit\tVirginia Beach\tD000235\t194.174.252.1\tM078\tBranch\t67\tDoctor\t145\t1\t14904.9\t2024-11-04 08:06:45\t2023\n",
      "TX000054\tAC00055\t169.5\t2023-09-07 16:51:27\tDebit\tSan Diego\tD000442\t42.219.228.159\tM036\tBranch\t28\tStudent\t142\t1\t918.88\t2024-11-04 08:08:58\t2023\n",
      "TX000055\tAC00419\t104.63\t2023-03-29 17:47:16\tDebit\tOmaha\tD000642\t186.135.2.148\tM095\tATM\t62\tRetired\t90\t1\t4477.78\t2024-11-04 08:10:42\t2023\n",
      "TX000056\tAC00374\t316.95\t2023-08-04 17:53:40\tDebit\tMesa\tD000013\t81.102.230.41\tM052\tBranch\t25\tStudent\t83\t1\t1324.03\t2024-11-04 08:09:15\t2023\n",
      "TX000057\tAC00271\t60.54\t2023-12-14 17:52:37\tCredit\tColumbus\tD000462\t1.198.76.182\tM095\tBranch\t57\tRetired\t52\t1\t3534.93\t2024-11-04 08:09:57\t2023\n",
      "TX000058\tAC00456\t292.56\t2023-03-03 17:37:41\tCredit\tDallas\tD000311\t198.73.211.114\tM075\tBranch\t68\tRetired\t61\t1\t4638.37\t2024-11-04 08:07:49\t2023\n",
      "TX000059\tAC00143\t386.52\t2023-06-09 16:18:15\tDebit\tIndianapolis\tD000145\t186.54.68.246\tM064\tBranch\t48\tEngineer\t28\t1\t5630.61\t2024-11-04 08:07:09\t2023\n",
      "TX000060\tAC00427\t112.07\t2023-10-02 16:35:22\tDebit\tKansas City\tD000089\t198.166.198.233\tM064\tBranch\t23\tStudent\t51\t1\t930.3\t2024-11-04 08:11:37\t2023\n",
      "TX000061\tAC00438\t568.52\t2023-10-06 18:44:37\tDebit\tIndianapolis\tD000233\t27.143.109.203\tM094\tATM\t46\tEngineer\t152\t1\t5499.91\t2024-11-04 08:06:25\t2023\n",
      "TX000062\tAC00002\t263.99\t2023-05-16 16:07:30\tDebit\tDallas\tD000285\t7.146.35.122\tM087\tBranch\t79\tRetired\t227\t2\t4175.02\t2024-11-04 08:11:03\t2023\n",
      "TX000063\tAC00425\t349.64\t2023-11-07 16:48:23\tDebit\tLas Vegas\tD000516\t9.230.41.239\tM097\tOnline\t48\tEngineer\t226\t1\t6651.62\t2024-11-04 08:08:09\t2023\n",
      "TX000064\tAC00325\t601.4\t2023-05-30 17:43:25\tCredit\tPhiladelphia\tD000548\t125.225.212.244\tM001\tBranch\t56\tEngineer\t104\t1\t8458.29\t2024-11-04 08:08:01\t2023\n",
      "TX000065\tAC00434\t5.77\t2023-11-02 16:01:40\tDebit\tCharlotte\tD000461\t155.164.18.235\tM071\tOnline\t50\tDoctor\t124\t1\t13988.12\t2024-11-04 08:11:32\t2023\n",
      "TX000066\tAC00242\t201.33\t2023-03-29 17:00:31\tCredit\tNashville\tD000098\t145.246.171.225\tM003\tBranch\t42\tEngineer\t186\t1\t2585.07\t2024-11-04 08:11:41\t2023\n",
      "TX000067\tAC00319\t298.42\t2023-04-25 16:11:24\tDebit\tIndianapolis\tD000435\t92.214.76.157\tM005\tBranch\t56\tRetired\t225\t1\t3014.75\t2024-11-04 08:10:12\t2023\n",
      "TX000068\tAC00460\t521.06\t2023-04-18 18:40:47\tDebit\tAlbuquerque\tD000305\t131.41.45.13\tM063\tBranch\t25\tStudent\t128\t1\t1951.42\t2024-11-04 08:12:10\t2023\n",
      "TX000069\tAC00461\t117.28\t2023-02-09 16:34:53\tCredit\tAustin\tD000128\t46.150.175.171\tM057\tOnline\t60\tEngineer\t16\t1\t3665.77\t2024-11-04 08:07:11\t2023\n",
      "TX000070\tAC00395\t189.12\t2023-11-13 16:42:28\tCredit\tIndianapolis\tD000684\t125.89.163.224\tM040\tBranch\t32\tEngineer\t103\t1\t977.01\t2024-11-04 08:08:42\t2023\n",
      "TX000071\tAC00217\t133.55\t2023-07-18 16:12:00\tDebit\tAtlanta\tD000201\t40.226.196.34\tM091\tATM\t44\tEngineer\t220\t1\t3846.28\t2024-11-04 08:10:18\t2023\n",
      "TX000072\tAC00053\t143.21\t2023-01-13 17:00:16\tDebit\tDallas\tD000410\t65.164.3.100\tM066\tOnline\t35\tEngineer\t135\t1\t6374.82\t2024-11-04 08:09:26\t2023\n",
      "TX000073\tAC00282\t24.77\t2023-07-04 18:20:33\tDebit\tBoston\tD000180\t9.230.41.239\tM070\tATM\t62\tRetired\t55\t1\t5866.01\t2024-11-04 08:12:15\t2023\n",
      "TX000074\tAC00110\t233.92\t2023-10-20 16:54:28\tCredit\tJacksonville\tD000295\t152.140.239.181\tM046\tOnline\t26\tStudent\t280\t1\t6537.62\t2024-11-04 08:08:45\t2023\n",
      "TX000075\tAC00265\t1212.51\t2023-10-04 16:36:29\tDebit\tIndianapolis\tD000231\t193.83.0.183\tM036\tBranch\t20\tStudent\t24\t1\t605.95\t2024-11-04 08:06:51\t2023\n",
      "TX000076\tAC00239\t232.12\t2023-12-28 17:31:03\tDebit\tOmaha\tD000073\t156.173.170.140\tM066\tATM\t37\tEngineer\t51\t1\t6689.87\t2024-11-04 08:09:17\t2023\n",
      "TX000077\tAC00007\t162.63\t2023-06-12 17:53:52\tDebit\tKansas City\tD000070\t60.153.124.80\tM060\tOnline\t22\tStudent\t113\t1\t634.17\t2024-11-04 08:08:22\t2023\n",
      "TX000078\tAC00022\t91.53\t2023-03-13 16:32:12\tDebit\tMilwaukee\tD000363\t94.37.250.128\tM095\tBranch\t44\tDoctor\t69\t1\t14676.05\t2024-11-04 08:11:36\t2023\n",
      "TX000079\tAC00464\t120.29\t2023-12-18 18:46:27\tDebit\tMiami\tD000561\t162.198.218.92\tM045\tBranch\t19\tStudent\t77\t1\t1362.39\t2024-11-04 08:06:50\t2023\n",
      "TX000080\tAC00014\t174.25\t2023-07-17 18:54:31\tDebit\tSeattle\tD000375\t130.92.201.49\tM032\tOnline\t50\tDoctor\t67\t1\t10528.34\t2024-11-04 08:10:29\t2023\n",
      "TX000081\tAC00406\t183.71\t2023-06-19 18:22:10\tDebit\tDenver\tD000488\t86.103.2.29\tM074\tATM\t38\tEngineer\t102\t1\t552.52\t2024-11-04 08:09:51\t2023\n",
      "TX000082\tAC00445\t345.39\t2023-10-23 17:13:57\tCredit\tPhoenix\tD000097\t131.41.45.13\tM081\tOnline\t58\tEngineer\t80\t1\t6451.96\t2024-11-04 08:08:16\t2023\n",
      "TX000083\tAC00236\t922.55\t2023-01-23 16:32:48\tDebit\tDetroit\tD000206\t21.97.154.92\tM004\tATM\t63\tRetired\t87\t1\t4715.84\t2024-11-04 08:11:07\t2023\n",
      "TX000084\tAC00220\t259.91\t2023-11-06 16:34:10\tDebit\tDenver\tD000616\t36.13.239.172\tM028\tOnline\t49\tDoctor\t170\t1\t7176.86\t2024-11-04 08:09:38\t2023\n",
      "TX000085\tAC00140\t154.71\t2023-07-03 16:40:24\tDebit\tSan Diego\tD000494\t167.104.180.235\tM030\tOnline\t34\tDoctor\t157\t1\t1523.72\t2024-11-04 08:09:42\t2023\n",
      "TX000086\tAC00098\t1340.19\t2023-09-29 17:22:10\tCredit\tAustin\tD000574\t165.114.224.47\tM012\tOnline\t54\tEngineer\t30\t1\t8654.28\t2024-11-04 08:06:53\t2023\n",
      "TX000087\tAC00303\t24.56\t2023-10-20 17:27:35\tDebit\tMesa\tD000428\t16.131.3.140\tM033\tBranch\t64\tDoctor\t69\t1\t9869.93\t2024-11-04 08:12:05\t2023\n",
      "TX000088\tAC00373\t568.07\t2023-08-28 17:03:53\tDebit\tWashington\tD000018\t8.243.4.138\tM054\tATM\t48\tDoctor\t115\t1\t10556.81\t2024-11-04 08:07:32\t2023\n",
      "TX000089\tAC00438\t9.61\t2023-06-22 18:37:29\tCredit\tSan Diego\tD000453\t132.127.5.187\tM043\tOnline\t58\tDoctor\t179\t1\t12883.91\t2024-11-04 08:09:10\t2023\n",
      "TX000090\tAC00437\t392.96\t2023-11-20 16:28:09\tDebit\tKansas City\tD000141\t186.54.68.246\tM022\tOnline\t24\tStudent\t100\t1\t791.65\t2024-11-04 08:08:38\t2023\n",
      "TX000091\tAC00106\t716.93\t2023-09-14 16:49:33\tCredit\tMilwaukee\tD000322\t101.223.82.253\tM052\tOnline\t60\tRetired\t34\t1\t4064.02\t2024-11-04 08:08:12\t2023\n",
      "TX000092\tAC00310\t223.85\t2023-10-02 16:36:10\tDebit\tKansas City\tD000481\t133.223.159.151\tM009\tATM\t53\tEngineer\t55\t4\t2929.91\t2024-11-04 08:08:01\t2023\n",
      "TX000093\tAC00149\t230.66\t2023-03-27 18:16:04\tDebit\tHouston\tD000526\t60.43.160.195\tM049\tBranch\t21\tStudent\t135\t1\t618.05\t2024-11-04 08:10:44\t2023\n",
      "TX000094\tAC00373\t442.12\t2023-12-21 16:37:03\tDebit\tLos Angeles\tD000645\t168.36.49.167\tM047\tOnline\t19\tStudent\t260\t1\t1375.8\t2024-11-04 08:08:21\t2023\n",
      "TX000095\tAC00425\t644.17\t2023-03-02 16:05:09\tDebit\tSan Antonio\tD000178\t165.38.56.205\tM093\tATM\t29\tEngineer\t72\t1\t1143.52\t2024-11-04 08:08:04\t2023\n",
      "TX000096\tAC00010\t508.68\t2023-06-26 16:16:50\tCredit\tMesa\tD000622\t193.108.17.115\tM048\tBranch\t51\tEngineer\t127\t1\t7708.41\t2024-11-04 08:09:32\t2023\n",
      "TX000097\tAC00348\t858.63\t2023-04-18 17:27:23\tCredit\tSan Francisco\tD000019\t175.230.206.232\tM002\tBranch\t27\tStudent\t185\t1\t1872.96\t2024-11-04 08:10:47\t2023\n",
      "TX000098\tAC00011\t25.36\t2023-07-17 17:08:24\tDebit\tLouisville\tD000192\t62.152.134.92\tM007\tATM\t57\tEngineer\t78\t1\t201.04\t2024-11-04 08:11:05\t2023\n",
      "TX000099\tAC00453\t147.62\t2023-09-01 17:26:02\tDebit\tCharlotte\tD000093\t149.84.108.18\tM028\tBranch\t71\tRetired\t133\t1\t2115.8\t2024-11-04 08:07:22\t2023\n",
      "TX000100\tAC00178\t115.02\t2023-09-11 16:19:04\tDebit\tSan Antonio\tD000528\t134.222.122.238\tM004\tBranch\t37\tDoctor\t175\t1\t7643.66\t2024-11-04 08:08:38\t2023\n",
      "Time taken: 1.332 seconds, Fetched: 100 row(s)\n"
     ]
    }
   ],
   "source": [
    "!hive -e \"SELECT * FROM bank_transactions LIMIT 100\""
   ]
  },
  {
   "cell_type": "code",
   "execution_count": 7,
   "id": "ba8126db-287d-4c59-aca1-dcce0fd5639c",
   "metadata": {},
   "outputs": [
    {
     "name": "stdout",
     "output_type": "stream",
     "text": [
      "SLF4J: Class path contains multiple SLF4J bindings.\n",
      "SLF4J: Found binding in [jar:file:/opt/hive/lib/log4j-slf4j-impl-2.17.1.jar!/org/slf4j/impl/StaticLoggerBinder.class]\n",
      "SLF4J: Found binding in [jar:file:/opt/hadoop/share/hadoop/common/lib/slf4j-reload4j-1.7.36.jar!/org/slf4j/impl/StaticLoggerBinder.class]\n",
      "SLF4J: See http://www.slf4j.org/codes.html#multiple_bindings for an explanation.\n",
      "SLF4J: Actual binding is of type [org.apache.logging.slf4j.Log4jLoggerFactory]\n",
      "Hive Session ID = 041df328-e776-4cb3-bf6e-74308e359981\n",
      "\n",
      "Logging initialized using configuration in jar:file:/opt/hive/lib/hive-common-3.1.3.jar!/hive-log4j2.properties Async: true\n",
      "Hive Session ID = 96a951d8-fdb0-42ff-8030-a665d710b682\n",
      "Query ID = jupyter_20241204160207_aaf14e5a-ba7a-4ab8-8c7b-9b2c8d84ff54\n",
      "Total jobs = 3\n",
      "Launching Job 1 out of 3\n",
      "Number of reduce tasks not specified. Estimated from input data size: 1\n",
      "In order to change the average load for a reducer (in bytes):\n",
      "  set hive.exec.reducers.bytes.per.reducer=<number>\n",
      "In order to limit the maximum number of reducers:\n",
      "  set hive.exec.reducers.max=<number>\n",
      "In order to set a constant number of reducers:\n",
      "  set mapreduce.job.reduces=<number>\n",
      "Starting Job = job_1733327779309_0002, Tracking URL = http://master:8088/proxy/application_1733327779309_0002/\n",
      "Kill Command = /opt/hadoop/bin/mapred job  -kill job_1733327779309_0002\n",
      "Hadoop job information for Stage-1: number of mappers: 1; number of reducers: 1\n",
      "2024-12-04 16:02:12,614 Stage-1 map = 0%,  reduce = 0%\n",
      "2024-12-04 16:02:17,774 Stage-1 map = 100%,  reduce = 0%, Cumulative CPU 2.87 sec\n",
      "2024-12-04 16:02:20,863 Stage-1 map = 100%,  reduce = 100%, Cumulative CPU 3.9 sec\n",
      "MapReduce Total cumulative CPU time: 3 seconds 900 msec\n",
      "Ended Job = job_1733327779309_0002\n",
      "Stage-4 is selected by condition resolver.\n",
      "Stage-3 is filtered out by condition resolver.\n",
      "Stage-5 is filtered out by condition resolver.\n",
      "Moving data to directory hdfs://master/user/hive/warehouse/bank_transactions/year=2023/.hive-staging_hive_2024-12-04_16-02-07_084_7905692878762821773-1/-ext-10000\n",
      "Loading data to table default.bank_transactions partition (year=2023)\n",
      "MapReduce Jobs Launched: \n",
      "Stage-Stage-1: Map: 1  Reduce: 1   Cumulative CPU: 3.9 sec   HDFS Read: 381898 HDFS Write: 353486 SUCCESS\n",
      "Total MapReduce CPU Time Spent: 3 seconds 900 msec\n",
      "OK\n",
      "Time taken: 15.421 seconds\n"
     ]
    }
   ],
   "source": [
    "!hive -e \"INSERT OVERWRITE TABLE bank_transactions PARTITION(year=2023) \\\n",
    "SELECT * FROM ext_bank_transactions WHERE YEAR(transaction_date) = 2023\""
   ]
  }
 ],
 "metadata": {
  "kernelspec": {
   "display_name": "Python 3 (ipykernel)",
   "language": "python",
   "name": "python3"
  },
  "language_info": {
   "codemirror_mode": {
    "name": "ipython",
    "version": 3
   },
   "file_extension": ".py",
   "mimetype": "text/x-python",
   "name": "python",
   "nbconvert_exporter": "python",
   "pygments_lexer": "ipython3",
   "version": "3.11.6"
  }
 },
 "nbformat": 4,
 "nbformat_minor": 5
}
