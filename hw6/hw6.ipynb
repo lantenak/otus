{
 "cells": [
  {
   "cell_type": "code",
   "execution_count": 1,
   "id": "cde90ac3-eddd-4546-ad13-9afc526f9934",
   "metadata": {},
   "outputs": [
    {
     "name": "stdout",
     "output_type": "stream",
     "text": [
      "Defaulting to user installation because normal site-packages is not writeable\n",
      "Requirement already satisfied: pyarrow in /home/jovyan/.local/lib/python3.11/site-packages (18.1.0)\n"
     ]
    }
   ],
   "source": [
    "!pip install pyarrow"
   ]
  },
  {
   "cell_type": "code",
   "execution_count": 2,
   "id": "9b614fdb-40c0-4d32-af1b-115ef97947cf",
   "metadata": {},
   "outputs": [
    {
     "name": "stdout",
     "output_type": "stream",
     "text": [
      "Defaulting to user installation because normal site-packages is not writeable\n",
      "Requirement already satisfied: numpy==1.26.4 in /home/jovyan/.local/lib/python3.11/site-packages (1.26.4)\n"
     ]
    }
   ],
   "source": [
    "!pip install numpy==1.26.4"
   ]
  },
  {
   "cell_type": "code",
   "execution_count": 3,
   "id": "2e59af43-f221-45f6-b58c-a2a2d1efba2f",
   "metadata": {},
   "outputs": [],
   "source": [
    "import findspark\n",
    "findspark.init('/opt/spark')"
   ]
  },
  {
   "cell_type": "code",
   "execution_count": 4,
   "id": "9770c978-1709-4ce6-9f1e-8e4e5d47398a",
   "metadata": {},
   "outputs": [],
   "source": [
    "from pyspark.sql import SparkSession\n",
    "import pyspark.sql.functions as F\n",
    "import pandas as pd\n",
    "import numpy as np\n",
    "from pyspark.sql.functions import pandas_udf, PandasUDFType\n",
    "from pyspark.sql.types import StructType, StructField, StringType, LongType, IntegerType"
   ]
  },
  {
   "cell_type": "code",
   "execution_count": 5,
   "id": "643b19c2-7d9c-4a66-bd2e-ca6f61e6946d",
   "metadata": {},
   "outputs": [
    {
     "name": "stderr",
     "output_type": "stream",
     "text": [
      "Setting default log level to \"WARN\".\n",
      "To adjust logging level use sc.setLogLevel(newLevel). For SparkR, use setLogLevel(newLevel).\n",
      "25/01/08 16:35:24 WARN NativeCodeLoader: Unable to load native-hadoop library for your platform... using builtin-java classes where applicable\n"
     ]
    }
   ],
   "source": [
    "spark = SparkSession \\\n",
    "    .builder \\\n",
    "    .master('local') \\\n",
    "    .getOrCreate()"
   ]
  },
  {
   "cell_type": "code",
   "execution_count": 6,
   "id": "3593940c-4cca-45ec-8800-2ea5e3119e1d",
   "metadata": {},
   "outputs": [
    {
     "name": "stdout",
     "output_type": "stream",
     "text": [
      "2025-01-08 16:35:29,608 WARN util.NativeCodeLoader: Unable to load native-hadoop library for your platform... using builtin-java classes where applicable\n"
     ]
    }
   ],
   "source": [
    "!hdfs dfs -mkdir /tmp/crime"
   ]
  },
  {
   "cell_type": "code",
   "execution_count": 7,
   "id": "93040006-17d1-40e3-9f3d-74818959958f",
   "metadata": {},
   "outputs": [
    {
     "name": "stdout",
     "output_type": "stream",
     "text": [
      "2025-01-08 16:35:32,957 WARN util.NativeCodeLoader: Unable to load native-hadoop library for your platform... using builtin-java classes where applicable\n"
     ]
    }
   ],
   "source": [
    "!hdfs dfs -put crime.csv /tmp/crime"
   ]
  },
  {
   "cell_type": "code",
   "execution_count": 8,
   "id": "777ab34d-fb9b-4483-b98d-ef37d2e1a3da",
   "metadata": {},
   "outputs": [
    {
     "name": "stdout",
     "output_type": "stream",
     "text": [
      "+---------------+------------+--------------------+--------------------+--------+--------------+--------+-------------------+----+-----+-----------+----+----------+-----------+-----------+------------+--------------------+----------+\n",
      "|INCIDENT_NUMBER|OFFENSE_CODE|  OFFENSE_CODE_GROUP| OFFENSE_DESCRIPTION|DISTRICT|REPORTING_AREA|SHOOTING|   OCCURRED_ON_DATE|YEAR|month|DAY_OF_WEEK|HOUR|  UCR_PART|     STREET|        Lat|        Long|            Location|year_month|\n",
      "+---------------+------------+--------------------+--------------------+--------+--------------+--------+-------------------+----+-----+-----------+----+----------+-----------+-----------+------------+--------------------+----------+\n",
      "|     I182070945|       00619|             Larceny|  LARCENY ALL OTHERS|     D14|           808|    null|2018-09-02 13:00:00|2018|   09|     Sunday|  13|  Part One| LINCOLN ST|42.35779134|-71.13937053|(42.35779134, -71...|   2018-09|\n",
      "|     I182070943|       01402|           Vandalism|           VANDALISM|     C11|           347|    null|2018-08-21 00:00:00|2018|   08|    Tuesday|   0|  Part Two|   HECLA ST|42.30682138|-71.06030035|(42.30682138, -71...|   2018-08|\n",
      "|     I182070941|       03410|               Towed| TOWED MOTOR VEHICLE|      D4|           151|    null|2018-09-03 19:27:00|2018|   09|     Monday|  19|Part Three|CAZENOVE ST|42.34658879|-71.07242943|(42.34658879, -71...|   2018-09|\n",
      "|     I182070940|       03114|Investigate Property|INVESTIGATE PROPERTY|      D4|           272|    null|2018-09-03 21:16:00|2018|   09|     Monday|  21|Part Three| NEWCOMB ST|42.33418175|-71.07866441|(42.33418175, -71...|   2018-09|\n",
      "|     I182070938|       03114|Investigate Property|INVESTIGATE PROPERTY|      B3|           421|    null|2018-09-03 21:05:00|2018|   09|     Monday|  21|Part Three|   DELHI ST|42.27536542|-71.09036101|(42.27536542, -71...|   2018-09|\n",
      "+---------------+------------+--------------------+--------------------+--------+--------------+--------+-------------------+----+-----+-----------+----+----------+-----------+-----------+------------+--------------------+----------+\n",
      "only showing top 5 rows\n",
      "\n"
     ]
    }
   ],
   "source": [
    "crime = spark \\\n",
    "    .read \\\n",
    "    .option('header', 'true') \\\n",
    "    .csv('/tmp/crime/crime.csv') \\\n",
    "    .withColumn('month', F.lpad('month', 2, '0')) \\\n",
    "    .withColumn('year_month', F.concat_ws('-', F.col('year'), F.col('month')))\n",
    "\n",
    "crime.show(5)"
   ]
  },
  {
   "cell_type": "markdown",
   "id": "1dbff1a8-85be-4a5d-a6a8-e6a9b8ce4b6e",
   "metadata": {},
   "source": [
    "# 1"
   ]
  },
  {
   "cell_type": "code",
   "execution_count": 9,
   "id": "0aa17961-3ccf-45ae-b3cc-4c21dfebd999",
   "metadata": {},
   "outputs": [
    {
     "name": "stdout",
     "output_type": "stream",
     "text": [
      "+----------+------------+\n",
      "|year_month|incident_sum|\n",
      "+----------+------------+\n",
      "|   2017-09|        8940|\n",
      "|   2017-10|        8846|\n",
      "|   2016-02|        7308|\n",
      "|   2018-06|        8834|\n",
      "|   2017-05|        8715|\n",
      "+----------+------------+\n",
      "only showing top 5 rows\n",
      "\n"
     ]
    },
    {
     "name": "stderr",
     "output_type": "stream",
     "text": [
      "                                                                                \r"
     ]
    }
   ],
   "source": [
    "df1 = crime \\\n",
    "    .groupBy('year_month') \\\n",
    "    .agg(F.count('incident_number').alias('incident_sum')) \\\n",
    "    .select('year_month', 'incident_sum')\n",
    "\n",
    "df1.show(5)"
   ]
  },
  {
   "cell_type": "code",
   "execution_count": 10,
   "id": "b7829d22-2b89-4e01-bd30-9b1a072c2b0f",
   "metadata": {},
   "outputs": [],
   "source": [
    "res1_schema = StructType(\n",
    "    [\n",
    "        StructField('year_month', StringType(), True),\n",
    "        StructField('incident_sum', LongType(), True),\n",
    "        StructField('cum_sum', LongType(), True),\n",
    "        StructField('pseudo_group', IntegerType(), True)\n",
    "    ]\n",
    ")"
   ]
  },
  {
   "cell_type": "code",
   "execution_count": 11,
   "id": "abd18d48-a1dc-4061-9118-d39bc6d86c8d",
   "metadata": {},
   "outputs": [],
   "source": [
    "@pandas_udf(res1_schema, PandasUDFType.GROUPED_MAP)\n",
    "def cumsum(pdf):\n",
    "    pdf = pdf.sort_values(by='year_month')\n",
    "    pdf['cum_sum'] = np.cumsum(pdf['incident_sum'])\n",
    "    return pdf"
   ]
  },
  {
   "cell_type": "code",
   "execution_count": 12,
   "id": "b388556b-bf72-4a84-8245-05fd2afbeb72",
   "metadata": {},
   "outputs": [
    {
     "name": "stdout",
     "output_type": "stream",
     "text": [
      "+----------+------------+------------+\n",
      "|year_month|incident_sum|pseudo_group|\n",
      "+----------+------------+------------+\n",
      "|   2017-09|        8940|           1|\n",
      "|   2017-10|        8846|           1|\n",
      "|   2016-02|        7308|           1|\n",
      "|   2018-06|        8834|           1|\n",
      "|   2017-05|        8715|           1|\n",
      "+----------+------------+------------+\n",
      "only showing top 5 rows\n",
      "\n"
     ]
    }
   ],
   "source": [
    "df1 = df1 \\\n",
    "    .withColumn('pseudo_group', F.lit(1))\n",
    "\n",
    "df1.show(5)"
   ]
  },
  {
   "cell_type": "code",
   "execution_count": 13,
   "id": "144e1da0-5f37-4d5e-a856-c6d379455924",
   "metadata": {},
   "outputs": [
    {
     "name": "stderr",
     "output_type": "stream",
     "text": [
      "/opt/spark/python/pyspark/sql/pandas/group_ops.py:103: UserWarning: It is preferred to use 'applyInPandas' over this API. This API will be deprecated in the future releases. See SPARK-28264 for more details.\n",
      "  warnings.warn(\n"
     ]
    },
    {
     "name": "stdout",
     "output_type": "stream",
     "text": [
      "+----------+------------+-------+\n",
      "|year_month|incident_sum|cum_sum|\n",
      "+----------+------------+-------+\n",
      "|   2015-06|        4191|   4191|\n",
      "|   2015-07|        8324|  12515|\n",
      "|   2015-08|        8342|  20857|\n",
      "|   2015-09|        8414|  29271|\n",
      "|   2015-10|        8308|  37579|\n",
      "|   2015-11|        7818|  45397|\n",
      "|   2015-12|        7991|  53388|\n",
      "|   2016-01|        7835|  61223|\n",
      "|   2016-02|        7308|  68531|\n",
      "|   2016-03|        8199|  76730|\n",
      "|   2016-04|        8101|  84831|\n",
      "|   2016-05|        8578|  93409|\n",
      "+----------+------------+-------+\n",
      "only showing top 12 rows\n",
      "\n"
     ]
    }
   ],
   "source": [
    "res1 = df1 \\\n",
    "    .groupBy('pseudo_group') \\\n",
    "    .apply(cumsum) \\\n",
    "    .drop('pseudo_group')\n",
    "\n",
    "res1.show(12)"
   ]
  },
  {
   "cell_type": "markdown",
   "id": "49601802-fae0-4e1a-94a4-ab6812345eeb",
   "metadata": {},
   "source": [
    "# 2"
   ]
  },
  {
   "cell_type": "code",
   "execution_count": 14,
   "id": "16e8bfcf-8636-47ac-a004-e72060f699a9",
   "metadata": {},
   "outputs": [
    {
     "name": "stdout",
     "output_type": "stream",
     "text": [
      "+----+-----+------------+\n",
      "|year|month|incident_sum|\n",
      "+----+-----+------------+\n",
      "|2016|   05|        8578|\n",
      "|2015|   09|        8414|\n",
      "|2017|   08|        9206|\n",
      "|2018|   07|        8538|\n",
      "|2018|   01|        7782|\n",
      "+----+-----+------------+\n",
      "only showing top 5 rows\n",
      "\n"
     ]
    }
   ],
   "source": [
    "df2 = crime \\\n",
    "    .groupBy('year', 'month') \\\n",
    "    .agg(F.count('incident_number').alias('incident_sum')) \\\n",
    "    .select('year', 'month', 'incident_sum')\n",
    "\n",
    "df2.show(5)"
   ]
  },
  {
   "cell_type": "code",
   "execution_count": 15,
   "id": "3f9e2d33-1dfd-441c-b332-6992b076d208",
   "metadata": {},
   "outputs": [],
   "source": [
    "def cumsum(pdf):\n",
    "    pdf = pdf.sort_values(by='month')\n",
    "    pdf['cum_sum'] = np.cumsum(pdf['incident_sum'])\n",
    "    return pdf"
   ]
  },
  {
   "cell_type": "code",
   "execution_count": 16,
   "id": "5ad6bf13-16dd-4ee6-9cdb-d12f575e6687",
   "metadata": {},
   "outputs": [
    {
     "name": "stdout",
     "output_type": "stream",
     "text": [
      "+----+-----+------------+-------+\n",
      "|year|month|incident_sum|cum_sum|\n",
      "+----+-----+------------+-------+\n",
      "|2015|   06|        4191|   4191|\n",
      "|2015|   07|        8324|  12515|\n",
      "|2015|   08|        8342|  20857|\n",
      "|2015|   09|        8414|  29271|\n",
      "|2015|   10|        8308|  37579|\n",
      "|2015|   11|        7818|  45397|\n",
      "|2015|   12|        7991|  53388|\n",
      "|2016|   01|        7835|   7835|\n",
      "|2016|   02|        7308|  15143|\n",
      "|2016|   03|        8199|  23342|\n",
      "|2016|   04|        8101|  31443|\n",
      "|2016|   05|        8578|  40021|\n",
      "+----+-----+------------+-------+\n",
      "only showing top 12 rows\n",
      "\n"
     ]
    }
   ],
   "source": [
    "res2 = df2 \\\n",
    "    .groupBy('year') \\\n",
    "    .applyInPandas(cumsum, 'year string, month string, incident_sum long, cum_sum long')\n",
    "\n",
    "res2.show(12)"
   ]
  },
  {
   "cell_type": "code",
   "execution_count": 17,
   "id": "0b668033-db88-45ae-8617-627d80164f3e",
   "metadata": {},
   "outputs": [],
   "source": [
    "spark.stop()"
   ]
  }
 ],
 "metadata": {
  "kernelspec": {
   "display_name": "Python 3 (ipykernel)",
   "language": "python",
   "name": "python3"
  },
  "language_info": {
   "codemirror_mode": {
    "name": "ipython",
    "version": 3
   },
   "file_extension": ".py",
   "mimetype": "text/x-python",
   "name": "python",
   "nbconvert_exporter": "python",
   "pygments_lexer": "ipython3",
   "version": "3.11.6"
  }
 },
 "nbformat": 4,
 "nbformat_minor": 5
}
