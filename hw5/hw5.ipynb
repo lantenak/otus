{
 "cells": [
  {
   "cell_type": "code",
   "execution_count": 1,
   "id": "829e9e24-fa33-4d97-95c6-5567a195760b",
   "metadata": {},
   "outputs": [],
   "source": [
    "import findspark\n",
    "findspark.init('/opt/spark')"
   ]
  },
  {
   "cell_type": "code",
   "execution_count": 2,
   "id": "a3c0a397-69d8-4fdf-b5a2-6446c0619f59",
   "metadata": {},
   "outputs": [],
   "source": [
    "from pyspark.sql import SparkSession\n",
    "import pyspark.sql.functions as F"
   ]
  },
  {
   "cell_type": "code",
   "execution_count": 3,
   "id": "7be2015c-d94f-48fe-8148-abc7d1f38642",
   "metadata": {},
   "outputs": [
    {
     "name": "stderr",
     "output_type": "stream",
     "text": [
      "Setting default log level to \"WARN\".\n",
      "To adjust logging level use sc.setLogLevel(newLevel). For SparkR, use setLogLevel(newLevel).\n",
      "25/01/07 15:25:11 WARN NativeCodeLoader: Unable to load native-hadoop library for your platform... using builtin-java classes where applicable\n"
     ]
    }
   ],
   "source": [
    "spark = SparkSession \\\n",
    "    .builder \\\n",
    "    .getOrCreate()\n",
    "\n",
    "spark.conf.set('spark.sql.autoBroadcastJoinThreshold', -1)"
   ]
  },
  {
   "cell_type": "code",
   "execution_count": 4,
   "id": "26270009-279f-4cfd-bc80-08bc486e771f",
   "metadata": {},
   "outputs": [
    {
     "name": "stdout",
     "output_type": "stream",
     "text": [
      "2025-01-07 15:25:22,545 WARN util.NativeCodeLoader: Unable to load native-hadoop library for your platform... using builtin-java classes where applicable\n"
     ]
    }
   ],
   "source": [
    "!hdfs dfs -mkdir /tmp/crime"
   ]
  },
  {
   "cell_type": "code",
   "execution_count": 5,
   "id": "257fd9c3-35af-42f9-b727-4619587ae3ae",
   "metadata": {},
   "outputs": [
    {
     "name": "stdout",
     "output_type": "stream",
     "text": [
      "2025-01-07 15:25:26,165 WARN util.NativeCodeLoader: Unable to load native-hadoop library for your platform... using builtin-java classes where applicable\n"
     ]
    }
   ],
   "source": [
    "!hdfs dfs -put crime.csv /tmp/crime"
   ]
  },
  {
   "cell_type": "code",
   "execution_count": 6,
   "id": "84e8b89a-6970-4e1a-9a9f-1c2f31746652",
   "metadata": {},
   "outputs": [
    {
     "name": "stdout",
     "output_type": "stream",
     "text": [
      "2025-01-07 15:25:32,443 WARN util.NativeCodeLoader: Unable to load native-hadoop library for your platform... using builtin-java classes where applicable\n"
     ]
    }
   ],
   "source": [
    "!hdfs dfs -put offense_codes.csv /tmp/crime"
   ]
  },
  {
   "cell_type": "code",
   "execution_count": 7,
   "id": "8310e83e-897b-4452-a295-fb5695171684",
   "metadata": {},
   "outputs": [
    {
     "name": "stderr",
     "output_type": "stream",
     "text": [
      "                                                                                \r"
     ]
    },
    {
     "name": "stdout",
     "output_type": "stream",
     "text": [
      "+---------------+------------+--------------------+--------------------+--------+--------------+--------+-------------------+----+-----+-----------+----+----------+-----------+-----------+------------+--------------------+\n",
      "|INCIDENT_NUMBER|OFFENSE_CODE|  OFFENSE_CODE_GROUP| OFFENSE_DESCRIPTION|DISTRICT|REPORTING_AREA|SHOOTING|   OCCURRED_ON_DATE|YEAR|MONTH|DAY_OF_WEEK|HOUR|  UCR_PART|     STREET|        Lat|        Long|            Location|\n",
      "+---------------+------------+--------------------+--------------------+--------+--------------+--------+-------------------+----+-----+-----------+----+----------+-----------+-----------+------------+--------------------+\n",
      "|     I182070945|       00619|             Larceny|  LARCENY ALL OTHERS|     D14|           808|    null|2018-09-02 13:00:00|2018|    9|     Sunday|  13|  Part One| LINCOLN ST|42.35779134|-71.13937053|(42.35779134, -71...|\n",
      "|     I182070943|       01402|           Vandalism|           VANDALISM|     C11|           347|    null|2018-08-21 00:00:00|2018|    8|    Tuesday|   0|  Part Two|   HECLA ST|42.30682138|-71.06030035|(42.30682138, -71...|\n",
      "|     I182070941|       03410|               Towed| TOWED MOTOR VEHICLE|      D4|           151|    null|2018-09-03 19:27:00|2018|    9|     Monday|  19|Part Three|CAZENOVE ST|42.34658879|-71.07242943|(42.34658879, -71...|\n",
      "|     I182070940|       03114|Investigate Property|INVESTIGATE PROPERTY|      D4|           272|    null|2018-09-03 21:16:00|2018|    9|     Monday|  21|Part Three| NEWCOMB ST|42.33418175|-71.07866441|(42.33418175, -71...|\n",
      "|     I182070938|       03114|Investigate Property|INVESTIGATE PROPERTY|      B3|           421|    null|2018-09-03 21:05:00|2018|    9|     Monday|  21|Part Three|   DELHI ST|42.27536542|-71.09036101|(42.27536542, -71...|\n",
      "+---------------+------------+--------------------+--------------------+--------+--------------+--------+-------------------+----+-----+-----------+----+----------+-----------+-----------+------------+--------------------+\n",
      "only showing top 5 rows\n",
      "\n"
     ]
    }
   ],
   "source": [
    "crime = spark \\\n",
    "    .read \\\n",
    "    .option('header', 'true') \\\n",
    "    .csv('/tmp/crime/crime.csv')\n",
    "\n",
    "crime.show(5)"
   ]
  },
  {
   "cell_type": "code",
   "execution_count": 8,
   "id": "aca1ca3c-f26a-4a98-9e55-7000580c6dd3",
   "metadata": {},
   "outputs": [
    {
     "name": "stdout",
     "output_type": "stream",
     "text": [
      "+-----+--------------------+\n",
      "| code|                NAME|\n",
      "+-----+--------------------+\n",
      "|00612|LARCENY PURSE SNA...|\n",
      "|00613| LARCENY SHOPLIFTING|\n",
      "|00615|LARCENY THEFT OF ...|\n",
      "|01731|              INCEST|\n",
      "|03111|LICENSE PREMISE V...|\n",
      "+-----+--------------------+\n",
      "only showing top 5 rows\n",
      "\n"
     ]
    }
   ],
   "source": [
    "offense_codes = spark \\\n",
    "    .read \\\n",
    "    .option('header', 'true') \\\n",
    "    .csv('/tmp/crime/offense_codes.csv') \\\n",
    "    .withColumn('code', F.lpad('code', 5, '0'))\n",
    "\n",
    "offense_codes.show(5)"
   ]
  },
  {
   "cell_type": "code",
   "execution_count": 9,
   "id": "af3bb868-478a-4945-addc-f8767cd60e69",
   "metadata": {},
   "outputs": [
    {
     "name": "stderr",
     "output_type": "stream",
     "text": [
      "[Stage 4:>                                                          (0 + 1) / 1]\r"
     ]
    },
    {
     "name": "stdout",
     "output_type": "stream",
     "text": [
      "+---------------+------------+------------------+--------------------+-------------------+--------+--------------+--------+-------------------+----+-----+-----------+----+----------+-----------+-----------+------------+--------------------+\n",
      "|incident_number|offense_code|offense_code_group|        offense_name|offense_description|district|reporting_area|shooting|   occurred_on_date|year|month|day_of_week|hour|  ucr_part|     street|        lat|        long|            location|\n",
      "+---------------+------------+------------------+--------------------+-------------------+--------+--------------+--------+-------------------+----+-----+-----------+----+----------+-----------+-----------+------------+--------------------+\n",
      "|     I182070945|       00619|           Larceny|LARCENY OTHER $20...| LARCENY ALL OTHERS|     D14|           808|    null|2018-09-02 13:00:00|2018|    9|     Sunday|  13|  Part One| LINCOLN ST|42.35779134|-71.13937053|(42.35779134, -71...|\n",
      "|     I182070945|       00619|           Larceny|  LARCENY ALL OTHERS| LARCENY ALL OTHERS|     D14|           808|    null|2018-09-02 13:00:00|2018|    9|     Sunday|  13|  Part One| LINCOLN ST|42.35779134|-71.13937053|(42.35779134, -71...|\n",
      "|     I182070943|       01402|         Vandalism|           VANDALISM|          VANDALISM|     C11|           347|    null|2018-08-21 00:00:00|2018|    8|    Tuesday|   0|  Part Two|   HECLA ST|42.30682138|-71.06030035|(42.30682138, -71...|\n",
      "|     I182070943|       01402|         Vandalism|           VANDALISM|          VANDALISM|     C11|           347|    null|2018-08-21 00:00:00|2018|    8|    Tuesday|   0|  Part Two|   HECLA ST|42.30682138|-71.06030035|(42.30682138, -71...|\n",
      "|     I182070941|       03410|             Towed| TOWED MOTOR VEHICLE|TOWED MOTOR VEHICLE|      D4|           151|    null|2018-09-03 19:27:00|2018|    9|     Monday|  19|Part Three|CAZENOVE ST|42.34658879|-71.07242943|(42.34658879, -71...|\n",
      "+---------------+------------+------------------+--------------------+-------------------+--------+--------------+--------+-------------------+----+-----+-----------+----+----------+-----------+-----------+------------+--------------------+\n",
      "only showing top 5 rows\n",
      "\n"
     ]
    },
    {
     "name": "stderr",
     "output_type": "stream",
     "text": [
      "                                                                                \r"
     ]
    }
   ],
   "source": [
    "stage0 = crime \\\n",
    "    .join(F.broadcast(offense_codes), \\\n",
    "          crime['offense_code'] == offense_codes['code'], \\\n",
    "          how='left') \\\n",
    "    .selectExpr('incident_number', 'offense_code', 'offense_code_group',\n",
    "                'name as offense_name', 'offense_description', 'district',\n",
    "                'reporting_area', 'shooting', 'occurred_on_date',\n",
    "                'year', 'month', 'day_of_week',\n",
    "                'hour', 'ucr_part', 'street',\n",
    "                'lat', 'long', 'location')\n",
    "\n",
    "stage0.show(5)"
   ]
  },
  {
   "cell_type": "code",
   "execution_count": 14,
   "id": "24a56707-a7d1-4a1e-b0dd-548418c16bd5",
   "metadata": {},
   "outputs": [
    {
     "name": "stdout",
     "output_type": "stream",
     "text": [
      "+--------+----------+---------------+\n",
      "|district|year_month|crimes_subtotal|\n",
      "+--------+----------+---------------+\n",
      "|      D4|    2016-9|           2116|\n",
      "|      D4|   2015-10|           1958|\n",
      "|      A7|    2016-8|            661|\n",
      "|     C11|    2016-6|           2003|\n",
      "|      B2|    2015-6|           1264|\n",
      "+--------+----------+---------------+\n",
      "only showing top 5 rows\n",
      "\n"
     ]
    }
   ],
   "source": [
    "stage1 = stage0 \\\n",
    "    .where(F.col('district').isNotNull()) \\\n",
    "    .withColumn('year_month', F.concat_ws('-', F.col('year'), F.col('month'))) \\\n",
    "    .groupBy('district', 'year_month') \\\n",
    "    .agg(F.count('incident_number').alias('crimes_subtotal')) \\\n",
    "    .select('district', 'year_month', 'crimes_subtotal')\n",
    "\n",
    "stage1.show(5)"
   ]
  },
  {
   "cell_type": "code",
   "execution_count": 15,
   "id": "f66c98b1-4891-46cc-bd3f-18d0c1ac92fd",
   "metadata": {},
   "outputs": [
    {
     "name": "stdout",
     "output_type": "stream",
     "text": [
      "+--------+------------+--------------+\n",
      "|district|crimes_total|crimes_monthly|\n",
      "+--------+------------+--------------+\n",
      "|      C6|       42353|        1074.5|\n",
      "|      B2|       89502|        2338.5|\n",
      "|     C11|       76812|        2002.5|\n",
      "|     E13|       31581|         799.5|\n",
      "|      B3|       64731|        1666.5|\n",
      "+--------+------------+--------------+\n",
      "only showing top 5 rows\n",
      "\n"
     ]
    }
   ],
   "source": [
    "stage2 = stage1 \\\n",
    "    .groupBy('district') \\\n",
    "    .agg(F.sum('crimes_subtotal').alias('crimes_total'), \\\n",
    "         F.median('crimes_subtotal').alias('crimes_monthly')) \\\n",
    "    .select('district', 'crimes_total', 'crimes_monthly')\n",
    "\n",
    "stage2.show(5)"
   ]
  },
  {
   "cell_type": "code",
   "execution_count": 18,
   "id": "8df45b6a-2177-4deb-afaa-b43285f5537d",
   "metadata": {},
   "outputs": [
    {
     "name": "stdout",
     "output_type": "stream",
     "text": [
      "+--------+------------------+------------------+\n",
      "|district|               lat|               lng|\n",
      "+--------+------------------+------------------+\n",
      "|      C6|  42.2127825349144|-70.85656945781402|\n",
      "|      B2| 42.31593668114477|-71.07556314050598|\n",
      "|     C11| 42.29307710447023|-71.05195457998221|\n",
      "|     E13| 42.31083916422159|-71.09944147664042|\n",
      "|      B3|42.282705915481436|-71.07838836128927|\n",
      "+--------+------------------+------------------+\n",
      "only showing top 5 rows\n",
      "\n"
     ]
    }
   ],
   "source": [
    "stage3 = stage0 \\\n",
    "    .where(F.col('district').isNotNull()) \\\n",
    "    .groupBy('district') \\\n",
    "    .agg(F.avg('lat').alias('avg_lat'), \\\n",
    "         F.avg('long').alias('avg_long')) \\\n",
    "    .selectExpr('district', 'avg_lat as lat', 'avg_long as lng')\n",
    "\n",
    "stage3.show(5)"
   ]
  },
  {
   "cell_type": "code",
   "execution_count": 19,
   "id": "e4979651-d458-42f2-97a6-35e0c39620da",
   "metadata": {},
   "outputs": [
    {
     "name": "stderr",
     "output_type": "stream",
     "text": [
      "[Stage 55:>                                                         (0 + 2) / 2]\r"
     ]
    },
    {
     "name": "stdout",
     "output_type": "stream",
     "text": [
      "+--------+------------+--------------+------------------+------------------+\n",
      "|district|crimes_total|crimes_monthly|               lat|               lng|\n",
      "+--------+------------+--------------+------------------+------------------+\n",
      "|      A1|       66275|        1673.5| 42.32935895752824| -71.0169132660099|\n",
      "|     A15|       11588|         288.5|42.184472217986624|-70.75327686373568|\n",
      "|      A7|       24488|         627.0| 42.35890784566083|-71.00143435045631|\n",
      "|      B2|       89502|        2338.5| 42.31593668114477|-71.07556314050598|\n",
      "|      B3|       64731|        1666.5|42.282705915481436|-71.07838836128927|\n",
      "|     C11|       76812|        2002.5| 42.29307710447023|-71.05195457998221|\n",
      "|      C6|       42353|        1074.5|  42.2127825349144|-70.85656945781402|\n",
      "|     D14|       36030|         916.5|42.342757123436165|-71.12993321509198|\n",
      "|      D4|       77104|        2001.0| 42.34113400538648|-71.07698375791774|\n",
      "|     E13|       31581|         799.5| 42.31083916422159|-71.09944147664042|\n",
      "|     E18|       30870|         779.0| 42.26264448919956|-71.11885083927447|\n",
      "|      E5|       23489|         601.0|42.193334173702915|-70.99668691410218|\n",
      "+--------+------------+--------------+------------------+------------------+\n",
      "\n"
     ]
    },
    {
     "name": "stderr",
     "output_type": "stream",
     "text": [
      "                                                                                \r"
     ]
    }
   ],
   "source": [
    "stage4 = stage2 \\\n",
    "    .join(stage3, \\\n",
    "          on='district', \\\n",
    "          how='left') \\\n",
    "    .orderBy(F.asc('district')) \\\n",
    "    .select('district', 'crimes_total', 'crimes_monthly', 'lat', 'lng')\n",
    "\n",
    "stage4.show(12)"
   ]
  },
  {
   "cell_type": "code",
   "execution_count": 20,
   "id": "3ef02d7f-2c65-4e1f-b94a-b4acebf2139a",
   "metadata": {},
   "outputs": [],
   "source": [
    "spark.stop()"
   ]
  }
 ],
 "metadata": {
  "kernelspec": {
   "display_name": "Python 3 (ipykernel)",
   "language": "python",
   "name": "python3"
  },
  "language_info": {
   "codemirror_mode": {
    "name": "ipython",
    "version": 3
   },
   "file_extension": ".py",
   "mimetype": "text/x-python",
   "name": "python",
   "nbconvert_exporter": "python",
   "pygments_lexer": "ipython3",
   "version": "3.11.6"
  }
 },
 "nbformat": 4,
 "nbformat_minor": 5
}
